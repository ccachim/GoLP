{
 "cells": [
  {
   "cell_type": "code",
   "execution_count": 3,
   "metadata": {},
   "outputs": [
    {
     "name": "stderr",
     "output_type": "stream",
     "text": [
      "C:\\Users\\acer\\AppData\\Local\\Packages\\PythonSoftwareFoundation.Python.3.9_qbz5n2kfra8p0\\LocalCache\\local-packages\\Python39\\site-packages\\openpyxl\\worksheet\\header_footer.py:48: UserWarning: Cannot parse header or footer so it will be ignored\n",
      "  warn(\"\"\"Cannot parse header or footer so it will be ignored\"\"\")\n",
      "C:\\Users\\acer\\AppData\\Local\\Packages\\PythonSoftwareFoundation.Python.3.9_qbz5n2kfra8p0\\LocalCache\\local-packages\\Python39\\site-packages\\openpyxl\\worksheet\\header_footer.py:48: UserWarning: Cannot parse header or footer so it will be ignored\n",
      "  warn(\"\"\"Cannot parse header or footer so it will be ignored\"\"\")\n",
      "C:\\Users\\acer\\AppData\\Local\\Packages\\PythonSoftwareFoundation.Python.3.9_qbz5n2kfra8p0\\LocalCache\\local-packages\\Python39\\site-packages\\openpyxl\\worksheet\\header_footer.py:48: UserWarning: Cannot parse header or footer so it will be ignored\n",
      "  warn(\"\"\"Cannot parse header or footer so it will be ignored\"\"\")\n"
     ]
    }
   ],
   "source": [
    "import pandas as pd\n",
    "\n",
    "# Read the baseline xlsx file\n",
    "df = pd.read_excel('BDLC.xlsx')\n",
    "xls = pd.ExcelFile('BDLC.xlsx')\n",
    "\n",
    "# Now you can list all sheets in the file\n",
    "xls.sheet_names\n",
    "\n",
    "# to read just one sheet to dataframe:\n",
    "dfL = pd.read_excel('BDLC.xlsx', sheet_name='Lenstar') \n",
    "dfC = pd.read_excel('BDLC.xlsx', sheet_name='Cassini_full')\n",
    "\n"
   ]
  },
  {
   "cell_type": "code",
   "execution_count": null,
   "metadata": {},
   "outputs": [],
   "source": []
  },
  {
   "cell_type": "code",
   "execution_count": 4,
   "metadata": {},
   "outputs": [
    {
     "data": {
      "text/plain": [
       "(1093, 29)"
      ]
     },
     "execution_count": 4,
     "metadata": {},
     "output_type": "execute_result"
    }
   ],
   "source": [
    "dfC.shape"
   ]
  },
  {
   "cell_type": "code",
   "execution_count": 5,
   "metadata": {},
   "outputs": [],
   "source": [
    "# Sort the values from dfC ascending\n",
    "dfC = dfC.sort_values('NHC', ascending=True)\n",
    "dfL = dfL.sort_values('NHC',ascending=True)"
   ]
  },
  {
   "cell_type": "code",
   "execution_count": 20,
   "metadata": {},
   "outputs": [
    {
     "data": {
      "text/html": [
       "<div>\n",
       "<style scoped>\n",
       "    .dataframe tbody tr th:only-of-type {\n",
       "        vertical-align: middle;\n",
       "    }\n",
       "\n",
       "    .dataframe tbody tr th {\n",
       "        vertical-align: top;\n",
       "    }\n",
       "\n",
       "    .dataframe thead th {\n",
       "        text-align: right;\n",
       "    }\n",
       "</style>\n",
       "<table border=\"1\" class=\"dataframe\">\n",
       "  <thead>\n",
       "    <tr style=\"text-align: right;\">\n",
       "      <th></th>\n",
       "      <th>id</th>\n",
       "      <th>NHC</th>\n",
       "      <th>C_Eye</th>\n",
       "      <th>C_Mode</th>\n",
       "      <th>C_K_Axis</th>\n",
       "      <th>C_K2</th>\n",
       "      <th>C_K1</th>\n",
       "      <th>C_K_Ast</th>\n",
       "      <th>C_K_Ast_Type</th>\n",
       "      <th>C_TCA_Axis</th>\n",
       "      <th>...</th>\n",
       "      <th>C_Post_D1</th>\n",
       "      <th>C_Post_Ast</th>\n",
       "      <th>C_Post_Ast_Type</th>\n",
       "      <th>C_Surgery_State</th>\n",
       "      <th>Quality_Factor_Lateral_Value</th>\n",
       "      <th>Quality_Factor_Axial_Value</th>\n",
       "      <th>Quality_Factor_Coverage_Value</th>\n",
       "      <th>Quality_Factor_Stability_Value</th>\n",
       "      <th>Quality_Factor_Posterior_Value</th>\n",
       "      <th>Examination_Date</th>\n",
       "    </tr>\n",
       "  </thead>\n",
       "  <tbody>\n",
       "    <tr>\n",
       "      <th>701</th>\n",
       "      <td>702</td>\n",
       "      <td>15646.0</td>\n",
       "      <td>OS</td>\n",
       "      <td>0</td>\n",
       "      <td>74</td>\n",
       "      <td>43.98965</td>\n",
       "      <td>43.06654</td>\n",
       "      <td>0.92307</td>\n",
       "      <td>NaN</td>\n",
       "      <td>75.47</td>\n",
       "      <td>...</td>\n",
       "      <td>-6.06561</td>\n",
       "      <td>-0.51895</td>\n",
       "      <td>NaN</td>\n",
       "      <td>NaN</td>\n",
       "      <td>92</td>\n",
       "      <td>100</td>\n",
       "      <td>96</td>\n",
       "      <td>100</td>\n",
       "      <td>100</td>\n",
       "      <td>2017-08-09 12:01:56.832</td>\n",
       "    </tr>\n",
       "    <tr>\n",
       "      <th>703</th>\n",
       "      <td>704</td>\n",
       "      <td>15646.0</td>\n",
       "      <td>OS</td>\n",
       "      <td>0</td>\n",
       "      <td>77</td>\n",
       "      <td>44.31210</td>\n",
       "      <td>43.14362</td>\n",
       "      <td>1.16851</td>\n",
       "      <td>NaN</td>\n",
       "      <td>80.32</td>\n",
       "      <td>...</td>\n",
       "      <td>-6.10213</td>\n",
       "      <td>-0.39068</td>\n",
       "      <td>NaN</td>\n",
       "      <td>NaN</td>\n",
       "      <td>89</td>\n",
       "      <td>94</td>\n",
       "      <td>87</td>\n",
       "      <td>100</td>\n",
       "      <td>100</td>\n",
       "      <td>2017-08-09 12:05:47.124</td>\n",
       "    </tr>\n",
       "    <tr>\n",
       "      <th>699</th>\n",
       "      <td>700</td>\n",
       "      <td>15646.0</td>\n",
       "      <td>OS</td>\n",
       "      <td>0</td>\n",
       "      <td>90</td>\n",
       "      <td>44.72628</td>\n",
       "      <td>43.30310</td>\n",
       "      <td>1.42316</td>\n",
       "      <td>NaN</td>\n",
       "      <td>91.67</td>\n",
       "      <td>...</td>\n",
       "      <td>-6.10088</td>\n",
       "      <td>-0.25988</td>\n",
       "      <td>NaN</td>\n",
       "      <td>NaN</td>\n",
       "      <td>88</td>\n",
       "      <td>97</td>\n",
       "      <td>96</td>\n",
       "      <td>100</td>\n",
       "      <td>100</td>\n",
       "      <td>2017-08-09 11:58:27.425</td>\n",
       "    </tr>\n",
       "    <tr>\n",
       "      <th>700</th>\n",
       "      <td>701</td>\n",
       "      <td>15646.0</td>\n",
       "      <td>OD</td>\n",
       "      <td>0</td>\n",
       "      <td>107</td>\n",
       "      <td>44.16377</td>\n",
       "      <td>43.08122</td>\n",
       "      <td>1.08255</td>\n",
       "      <td>NaN</td>\n",
       "      <td>101.44</td>\n",
       "      <td>...</td>\n",
       "      <td>-6.12877</td>\n",
       "      <td>-0.41115</td>\n",
       "      <td>NaN</td>\n",
       "      <td>NaN</td>\n",
       "      <td>92</td>\n",
       "      <td>97</td>\n",
       "      <td>96</td>\n",
       "      <td>100</td>\n",
       "      <td>100</td>\n",
       "      <td>2017-08-09 12:01:12.320</td>\n",
       "    </tr>\n",
       "    <tr>\n",
       "      <th>696</th>\n",
       "      <td>697</td>\n",
       "      <td>15646.0</td>\n",
       "      <td>OS</td>\n",
       "      <td>0</td>\n",
       "      <td>92</td>\n",
       "      <td>43.64694</td>\n",
       "      <td>42.54171</td>\n",
       "      <td>1.10520</td>\n",
       "      <td>NaN</td>\n",
       "      <td>97.17</td>\n",
       "      <td>...</td>\n",
       "      <td>-6.01986</td>\n",
       "      <td>-0.37255</td>\n",
       "      <td>NaN</td>\n",
       "      <td>NaN</td>\n",
       "      <td>91</td>\n",
       "      <td>97</td>\n",
       "      <td>100</td>\n",
       "      <td>100</td>\n",
       "      <td>100</td>\n",
       "      <td>2017-08-09 11:43:30.202</td>\n",
       "    </tr>\n",
       "    <tr>\n",
       "      <th>698</th>\n",
       "      <td>699</td>\n",
       "      <td>15646.0</td>\n",
       "      <td>OD</td>\n",
       "      <td>0</td>\n",
       "      <td>87</td>\n",
       "      <td>44.71099</td>\n",
       "      <td>43.33913</td>\n",
       "      <td>1.37188</td>\n",
       "      <td>NaN</td>\n",
       "      <td>86.22</td>\n",
       "      <td>...</td>\n",
       "      <td>-6.12840</td>\n",
       "      <td>-0.30630</td>\n",
       "      <td>NaN</td>\n",
       "      <td>NaN</td>\n",
       "      <td>94</td>\n",
       "      <td>97</td>\n",
       "      <td>91</td>\n",
       "      <td>100</td>\n",
       "      <td>100</td>\n",
       "      <td>2017-08-09 11:56:07.078</td>\n",
       "    </tr>\n",
       "    <tr>\n",
       "      <th>702</th>\n",
       "      <td>703</td>\n",
       "      <td>15646.0</td>\n",
       "      <td>OD</td>\n",
       "      <td>0</td>\n",
       "      <td>107</td>\n",
       "      <td>44.07513</td>\n",
       "      <td>42.98815</td>\n",
       "      <td>1.08694</td>\n",
       "      <td>NaN</td>\n",
       "      <td>99.64</td>\n",
       "      <td>...</td>\n",
       "      <td>-6.03870</td>\n",
       "      <td>-0.53333</td>\n",
       "      <td>NaN</td>\n",
       "      <td>NaN</td>\n",
       "      <td>93</td>\n",
       "      <td>94</td>\n",
       "      <td>96</td>\n",
       "      <td>100</td>\n",
       "      <td>100</td>\n",
       "      <td>2017-08-09 12:04:39.485</td>\n",
       "    </tr>\n",
       "    <tr>\n",
       "      <th>697</th>\n",
       "      <td>698</td>\n",
       "      <td>15646.0</td>\n",
       "      <td>OD</td>\n",
       "      <td>0</td>\n",
       "      <td>93</td>\n",
       "      <td>43.67722</td>\n",
       "      <td>42.23274</td>\n",
       "      <td>1.44445</td>\n",
       "      <td>NaN</td>\n",
       "      <td>93.03</td>\n",
       "      <td>...</td>\n",
       "      <td>-5.97721</td>\n",
       "      <td>-0.43763</td>\n",
       "      <td>NaN</td>\n",
       "      <td>NaN</td>\n",
       "      <td>93</td>\n",
       "      <td>97</td>\n",
       "      <td>100</td>\n",
       "      <td>100</td>\n",
       "      <td>100</td>\n",
       "      <td>2017-08-09 11:44:18.010</td>\n",
       "    </tr>\n",
       "    <tr>\n",
       "      <th>706</th>\n",
       "      <td>707</td>\n",
       "      <td>75557.0</td>\n",
       "      <td>OD</td>\n",
       "      <td>0</td>\n",
       "      <td>88</td>\n",
       "      <td>43.66778</td>\n",
       "      <td>42.39215</td>\n",
       "      <td>1.27563</td>\n",
       "      <td>NaN</td>\n",
       "      <td>82.47</td>\n",
       "      <td>...</td>\n",
       "      <td>-5.89352</td>\n",
       "      <td>-0.37985</td>\n",
       "      <td>NaN</td>\n",
       "      <td>NaN</td>\n",
       "      <td>85</td>\n",
       "      <td>91</td>\n",
       "      <td>89</td>\n",
       "      <td>100</td>\n",
       "      <td>100</td>\n",
       "      <td>2017-08-09 15:36:28.698</td>\n",
       "    </tr>\n",
       "    <tr>\n",
       "      <th>707</th>\n",
       "      <td>708</td>\n",
       "      <td>75557.0</td>\n",
       "      <td>OS</td>\n",
       "      <td>0</td>\n",
       "      <td>94</td>\n",
       "      <td>43.46214</td>\n",
       "      <td>42.72574</td>\n",
       "      <td>0.73638</td>\n",
       "      <td>NaN</td>\n",
       "      <td>103.74</td>\n",
       "      <td>...</td>\n",
       "      <td>-5.95596</td>\n",
       "      <td>-0.39411</td>\n",
       "      <td>NaN</td>\n",
       "      <td>NaN</td>\n",
       "      <td>89</td>\n",
       "      <td>91</td>\n",
       "      <td>100</td>\n",
       "      <td>100</td>\n",
       "      <td>100</td>\n",
       "      <td>2017-08-09 15:37:16.614</td>\n",
       "    </tr>\n",
       "  </tbody>\n",
       "</table>\n",
       "<p>10 rows × 29 columns</p>\n",
       "</div>"
      ],
      "text/plain": [
       "      id      NHC C_Eye C_Mode  C_K_Axis      C_K2      C_K1  C_K_Ast  \\\n",
       "701  702  15646.0    OS      0        74  43.98965  43.06654  0.92307   \n",
       "703  704  15646.0    OS      0        77  44.31210  43.14362  1.16851   \n",
       "699  700  15646.0    OS      0        90  44.72628  43.30310  1.42316   \n",
       "700  701  15646.0    OD      0       107  44.16377  43.08122  1.08255   \n",
       "696  697  15646.0    OS      0        92  43.64694  42.54171  1.10520   \n",
       "698  699  15646.0    OD      0        87  44.71099  43.33913  1.37188   \n",
       "702  703  15646.0    OD      0       107  44.07513  42.98815  1.08694   \n",
       "697  698  15646.0    OD      0        93  43.67722  42.23274  1.44445   \n",
       "706  707  75557.0    OD      0        88  43.66778  42.39215  1.27563   \n",
       "707  708  75557.0    OS      0        94  43.46214  42.72574  0.73638   \n",
       "\n",
       "     C_K_Ast_Type  C_TCA_Axis  ...  C_Post_D1  C_Post_Ast  C_Post_Ast_Type  \\\n",
       "701           NaN       75.47  ...   -6.06561    -0.51895              NaN   \n",
       "703           NaN       80.32  ...   -6.10213    -0.39068              NaN   \n",
       "699           NaN       91.67  ...   -6.10088    -0.25988              NaN   \n",
       "700           NaN      101.44  ...   -6.12877    -0.41115              NaN   \n",
       "696           NaN       97.17  ...   -6.01986    -0.37255              NaN   \n",
       "698           NaN       86.22  ...   -6.12840    -0.30630              NaN   \n",
       "702           NaN       99.64  ...   -6.03870    -0.53333              NaN   \n",
       "697           NaN       93.03  ...   -5.97721    -0.43763              NaN   \n",
       "706           NaN       82.47  ...   -5.89352    -0.37985              NaN   \n",
       "707           NaN      103.74  ...   -5.95596    -0.39411              NaN   \n",
       "\n",
       "     C_Surgery_State  Quality_Factor_Lateral_Value  \\\n",
       "701              NaN                            92   \n",
       "703              NaN                            89   \n",
       "699              NaN                            88   \n",
       "700              NaN                            92   \n",
       "696              NaN                            91   \n",
       "698              NaN                            94   \n",
       "702              NaN                            93   \n",
       "697              NaN                            93   \n",
       "706              NaN                            85   \n",
       "707              NaN                            89   \n",
       "\n",
       "     Quality_Factor_Axial_Value  Quality_Factor_Coverage_Value  \\\n",
       "701                         100                             96   \n",
       "703                          94                             87   \n",
       "699                          97                             96   \n",
       "700                          97                             96   \n",
       "696                          97                            100   \n",
       "698                          97                             91   \n",
       "702                          94                             96   \n",
       "697                          97                            100   \n",
       "706                          91                             89   \n",
       "707                          91                            100   \n",
       "\n",
       "     Quality_Factor_Stability_Value  Quality_Factor_Posterior_Value  \\\n",
       "701                             100                             100   \n",
       "703                             100                             100   \n",
       "699                             100                             100   \n",
       "700                             100                             100   \n",
       "696                             100                             100   \n",
       "698                             100                             100   \n",
       "702                             100                             100   \n",
       "697                             100                             100   \n",
       "706                             100                             100   \n",
       "707                             100                             100   \n",
       "\n",
       "            Examination_Date  \n",
       "701  2017-08-09 12:01:56.832  \n",
       "703  2017-08-09 12:05:47.124  \n",
       "699  2017-08-09 11:58:27.425  \n",
       "700  2017-08-09 12:01:12.320  \n",
       "696  2017-08-09 11:43:30.202  \n",
       "698  2017-08-09 11:56:07.078  \n",
       "702  2017-08-09 12:04:39.485  \n",
       "697  2017-08-09 11:44:18.010  \n",
       "706  2017-08-09 15:36:28.698  \n",
       "707  2017-08-09 15:37:16.614  \n",
       "\n",
       "[10 rows x 29 columns]"
      ]
     },
     "execution_count": 20,
     "metadata": {},
     "output_type": "execute_result"
    }
   ],
   "source": [
    "dfC.head(10)"
   ]
  },
  {
   "cell_type": "code",
   "execution_count": 3,
   "metadata": {},
   "outputs": [
    {
     "data": {
      "text/plain": [
       "(1093, 29)"
      ]
     },
     "execution_count": 3,
     "metadata": {},
     "output_type": "execute_result"
    }
   ],
   "source": [
    "# dimensions of the file (rows,columns)\n",
    "# dfL.shape # (3858, 22)  Lenstar\n",
    "# dfC.shape # (1093, 29) Cassini\n"
   ]
  },
  {
   "cell_type": "code",
   "execution_count": 6,
   "metadata": {},
   "outputs": [
    {
     "name": "stdout",
     "output_type": "stream",
     "text": [
      "['id', 'NHC', 'L_Eye', 'L_Mode', 'L_CCT', 'L_AD', 'L_LT', 'L_AL', 'L_R1', 'L_K1', 'L_R2', 'L_K2', 'L_AST', 'L_AXIS', 'L_WTW', 'L_ICX', 'L_ICY', 'L_PD', 'L_PCX', 'L_PCY', 'L_Ast_Type', 'L_Surgery_State']\n",
      "['id', 'NHC', 'C_Eye', 'C_Mode', 'C_K_Axis', 'C_K2', 'C_K1', 'C_K_Ast', 'C_K_Ast_Type', 'C_TCA_Axis', 'C_TCA_Ast', 'C_TCA_Ast_Type', 'C_Ant_Axis', 'C_Ant_D2', 'C_Ant_D1', 'C_Ant_Ast', 'C_Ant_Ast_Type', 'C_Post_Axis', 'C_Post_D2', 'C_Post_D1', 'C_Post_Ast', 'C_Post_Ast_Type', 'C_Surgery_State', 'Quality_Factor_Lateral_Value', 'Quality_Factor_Axial_Value', 'Quality_Factor_Coverage_Value', 'Quality_Factor_Stability_Value', 'Quality_Factor_Posterior_Value', 'Examination_Date']\n"
     ]
    }
   ],
   "source": [
    "# Print list of column names\n",
    "# lenstar\n",
    "a=list(dfL.columns)\n",
    "\n",
    "# Cassini\n",
    "b=list(dfC.columns)\n",
    "\n",
    "print(a)\n",
    "print(b)"
   ]
  },
  {
   "cell_type": "markdown",
   "metadata": {},
   "source": [
    "### Identificaar Cassini únicos com maior 'Quality_Factor_Posterior_Value'\n",
    "\n",
    "* first order cassini based on ''Quality_Factor_Posterior_Value'' in descending order\n",
    "\n",
    "* Keep the first of the duplicates"
   ]
  },
  {
   "cell_type": "code",
   "execution_count": null,
   "metadata": {},
   "outputs": [],
   "source": [
    "# # Sort DataFrame by Column1 and then by the maximum value of Column2 within each group\n",
    "\n",
    "# sorted_df = df.sort_values(by=['Column1', 'Column2'], ascending=[True, False])\n",
    "\n",
    "# # This will sort the DataFrame first by values in Column1 in ascending order and then, within each group of duplicates in Column1, it will sort them based on the maximum value of Column2 in descending order"
   ]
  },
  {
   "cell_type": "code",
   "execution_count": 7,
   "metadata": {},
   "outputs": [],
   "source": [
    "dfC1 = dfC.sort_values(['NHC', 'Quality_Factor_Posterior_Value'], ascending=[True, False])\n",
    "# This will sort the DataFrame first by values in Column1 in ascending order and then, within each group of duplicates in Column1, it will sort them based on the maximum value of Column2 in descending order"
   ]
  },
  {
   "cell_type": "code",
   "execution_count": 8,
   "metadata": {},
   "outputs": [],
   "source": [
    "dfC1 = dfC1.drop_duplicates(subset='NHC' , keep='first')"
   ]
  },
  {
   "cell_type": "code",
   "execution_count": 15,
   "metadata": {},
   "outputs": [
    {
     "data": {
      "text/plain": [
       "(1093, 29)"
      ]
     },
     "execution_count": 15,
     "metadata": {},
     "output_type": "execute_result"
    }
   ],
   "source": [
    "dfC.shape"
   ]
  },
  {
   "cell_type": "code",
   "execution_count": 16,
   "metadata": {},
   "outputs": [
    {
     "data": {
      "text/plain": [
       "(395, 29)"
      ]
     },
     "execution_count": 16,
     "metadata": {},
     "output_type": "execute_result"
    }
   ],
   "source": [
    "dfC1.shape"
   ]
  },
  {
   "cell_type": "code",
   "execution_count": 20,
   "metadata": {},
   "outputs": [
    {
     "data": {
      "text/plain": [
       "0.3613906678865508"
      ]
     },
     "execution_count": 20,
     "metadata": {},
     "output_type": "execute_result"
    }
   ],
   "source": [
    "(dfC1.shape[0]/dfC.shape[0])"
   ]
  },
  {
   "cell_type": "code",
   "execution_count": 59,
   "metadata": {},
   "outputs": [],
   "source": [
    "# with pd.ExcelWriter(\"test.xlsx\") as writer: # the name of the xlsx can be anything\n",
    "#     dfC1.to_excel(writer,sheet_name='Cass',index=False)"
   ]
  },
  {
   "cell_type": "code",
   "execution_count": null,
   "metadata": {},
   "outputs": [],
   "source": []
  },
  {
   "cell_type": "markdown",
   "metadata": {},
   "source": [
    "### Separate Phakic and Not Phakic do Lenstar"
   ]
  },
  {
   "cell_type": "code",
   "execution_count": 22,
   "metadata": {},
   "outputs": [],
   "source": [
    "# In Lenstar\n",
    "# Divide the Phakic and not Phakic groups. \n",
    "# Phakic = pre-operation, meaning the LT (lens Thickness) is usually around 4mm\n",
    "# Not Phakic = post-operation, meaning the LT (lens Thickness) is usually around 1~2mm\n",
    "\n",
    "# clean all rows that are not phakic\n",
    "dfL_phakic = dfL.drop(dfL[dfL['L_Mode'] != 'Phakic'].index)\n",
    "# preserve all discarded rows\n",
    "dfL_Notphakic= dfL.drop(dfL[dfL['L_Mode'] == 'Phakic'].index)\n",
    "\n",
    "# Cassini, 'C_mode' tem definido como 0 os valores para os Phakic,\n",
    "# mas não se tem a certeza, vamos agrupar o NHC por aproximidade ***\n"
   ]
  },
  {
   "cell_type": "markdown",
   "metadata": {},
   "source": [
    "#### Sorting of Phakic on Lenstar without any condition applied, was just selected the first row to define the duplicates"
   ]
  },
  {
   "cell_type": "code",
   "execution_count": 26,
   "metadata": {},
   "outputs": [],
   "source": [
    "# f.sort_values(by=['Column1', 'Column2'], ascending=[True, False]\n",
    "# dfC1 = dfC1.drop_duplicates(subset='NHC' , keep='first')\n",
    "\n",
    "# assumindo que OS e OD são indestinguivéis, não importa\n",
    "\n",
    "dfL_phakic1 = dfL_phakic.sort_values(by='id', ascending=True)\n",
    "dfL_phakic1 = dfL_phakic1.drop_duplicates(subset='NHC' , keep='first')\n"
   ]
  },
  {
   "cell_type": "code",
   "execution_count": 25,
   "metadata": {},
   "outputs": [
    {
     "data": {
      "text/plain": [
       "(3700, 22)"
      ]
     },
     "execution_count": 25,
     "metadata": {},
     "output_type": "execute_result"
    }
   ],
   "source": [
    "dfL_phakic.shape"
   ]
  },
  {
   "cell_type": "code",
   "execution_count": 27,
   "metadata": {},
   "outputs": [
    {
     "data": {
      "text/plain": [
       "(1959, 22)"
      ]
     },
     "execution_count": 27,
     "metadata": {},
     "output_type": "execute_result"
    }
   ],
   "source": [
    "dfL_phakic1.shape\n"
   ]
  },
  {
   "cell_type": "code",
   "execution_count": 28,
   "metadata": {},
   "outputs": [
    {
     "data": {
      "text/plain": [
       "0.5294594594594595"
      ]
     },
     "execution_count": 28,
     "metadata": {},
     "output_type": "execute_result"
    }
   ],
   "source": [
    "(dfL_phakic1.shape[0]/dfL_phakic.shape[0])"
   ]
  },
  {
   "cell_type": "code",
   "execution_count": 31,
   "metadata": {},
   "outputs": [
    {
     "data": {
      "text/plain": [
       "(3700, 22)"
      ]
     },
     "execution_count": 31,
     "metadata": {},
     "output_type": "execute_result"
    }
   ],
   "source": [
    "dfL_phakic.shape"
   ]
  },
  {
   "cell_type": "code",
   "execution_count": 61,
   "metadata": {},
   "outputs": [
    {
     "data": {
      "text/plain": [
       "(3700, 22)"
      ]
     },
     "execution_count": 61,
     "metadata": {},
     "output_type": "execute_result"
    }
   ],
   "source": [
    "dfL_phakic.shape"
   ]
  },
  {
   "cell_type": "markdown",
   "metadata": {},
   "source": [
    "### Combine data "
   ]
  },
  {
   "cell_type": "markdown",
   "metadata": {},
   "source": [
    "#### Phakic "
   ]
  },
  {
   "cell_type": "code",
   "execution_count": 170,
   "metadata": {},
   "outputs": [
    {
     "data": {
      "text/plain": [
       "(1959, 22)"
      ]
     },
     "execution_count": 170,
     "metadata": {},
     "output_type": "execute_result"
    }
   ],
   "source": [
    "dfL_phakic1.shape"
   ]
  },
  {
   "cell_type": "code",
   "execution_count": 171,
   "metadata": {},
   "outputs": [],
   "source": [
    "# dfC1 - with unique NHC in Cassini \n",
    "# dfL_phakic1 - Lenstar\n",
    "\n",
    "df_Phakic = pd.concat([dfC1, dfL_phakic1], ignore_index=True,axis=0)"
   ]
  },
  {
   "cell_type": "code",
   "execution_count": 172,
   "metadata": {},
   "outputs": [
    {
     "data": {
      "text/html": [
       "<div>\n",
       "<style scoped>\n",
       "    .dataframe tbody tr th:only-of-type {\n",
       "        vertical-align: middle;\n",
       "    }\n",
       "\n",
       "    .dataframe tbody tr th {\n",
       "        vertical-align: top;\n",
       "    }\n",
       "\n",
       "    .dataframe thead th {\n",
       "        text-align: right;\n",
       "    }\n",
       "</style>\n",
       "<table border=\"1\" class=\"dataframe\">\n",
       "  <thead>\n",
       "    <tr style=\"text-align: right;\">\n",
       "      <th></th>\n",
       "      <th>id</th>\n",
       "      <th>NHC</th>\n",
       "      <th>C_Eye</th>\n",
       "      <th>C_Mode</th>\n",
       "      <th>C_K_Axis</th>\n",
       "      <th>C_K2</th>\n",
       "      <th>C_K1</th>\n",
       "      <th>C_K_Ast</th>\n",
       "      <th>C_K_Ast_Type</th>\n",
       "      <th>C_TCA_Axis</th>\n",
       "      <th>...</th>\n",
       "      <th>L_AST</th>\n",
       "      <th>L_AXIS</th>\n",
       "      <th>L_WTW</th>\n",
       "      <th>L_ICX</th>\n",
       "      <th>L_ICY</th>\n",
       "      <th>L_PD</th>\n",
       "      <th>L_PCX</th>\n",
       "      <th>L_PCY</th>\n",
       "      <th>L_Ast_Type</th>\n",
       "      <th>L_Surgery_State</th>\n",
       "    </tr>\n",
       "  </thead>\n",
       "  <tbody>\n",
       "    <tr>\n",
       "      <th>0</th>\n",
       "      <td>697</td>\n",
       "      <td>1.564600e+04</td>\n",
       "      <td>OS</td>\n",
       "      <td>0</td>\n",
       "      <td>92.0</td>\n",
       "      <td>43.64694</td>\n",
       "      <td>42.54171</td>\n",
       "      <td>1.10520</td>\n",
       "      <td>NaN</td>\n",
       "      <td>97.17</td>\n",
       "      <td>...</td>\n",
       "      <td>NaN</td>\n",
       "      <td>NaN</td>\n",
       "      <td>NaN</td>\n",
       "      <td>NaN</td>\n",
       "      <td>NaN</td>\n",
       "      <td>NaN</td>\n",
       "      <td>NaN</td>\n",
       "      <td>NaN</td>\n",
       "      <td>NaN</td>\n",
       "      <td>NaN</td>\n",
       "    </tr>\n",
       "    <tr>\n",
       "      <th>1</th>\n",
       "      <td>707</td>\n",
       "      <td>7.555700e+04</td>\n",
       "      <td>OD</td>\n",
       "      <td>0</td>\n",
       "      <td>88.0</td>\n",
       "      <td>43.66778</td>\n",
       "      <td>42.39215</td>\n",
       "      <td>1.27563</td>\n",
       "      <td>NaN</td>\n",
       "      <td>82.47</td>\n",
       "      <td>...</td>\n",
       "      <td>NaN</td>\n",
       "      <td>NaN</td>\n",
       "      <td>NaN</td>\n",
       "      <td>NaN</td>\n",
       "      <td>NaN</td>\n",
       "      <td>NaN</td>\n",
       "      <td>NaN</td>\n",
       "      <td>NaN</td>\n",
       "      <td>NaN</td>\n",
       "      <td>NaN</td>\n",
       "    </tr>\n",
       "    <tr>\n",
       "      <th>2</th>\n",
       "      <td>690</td>\n",
       "      <td>5.146540e+05</td>\n",
       "      <td>OD</td>\n",
       "      <td>0</td>\n",
       "      <td>90.0</td>\n",
       "      <td>43.65411</td>\n",
       "      <td>42.34524</td>\n",
       "      <td>1.30885</td>\n",
       "      <td>NaN</td>\n",
       "      <td>84.29</td>\n",
       "      <td>...</td>\n",
       "      <td>NaN</td>\n",
       "      <td>NaN</td>\n",
       "      <td>NaN</td>\n",
       "      <td>NaN</td>\n",
       "      <td>NaN</td>\n",
       "      <td>NaN</td>\n",
       "      <td>NaN</td>\n",
       "      <td>NaN</td>\n",
       "      <td>NaN</td>\n",
       "      <td>NaN</td>\n",
       "    </tr>\n",
       "    <tr>\n",
       "      <th>3</th>\n",
       "      <td>889</td>\n",
       "      <td>1.751981e+06</td>\n",
       "      <td>OD</td>\n",
       "      <td>0</td>\n",
       "      <td>67.0</td>\n",
       "      <td>42.79926</td>\n",
       "      <td>41.88031</td>\n",
       "      <td>0.91898</td>\n",
       "      <td>NaN</td>\n",
       "      <td>59.32</td>\n",
       "      <td>...</td>\n",
       "      <td>NaN</td>\n",
       "      <td>NaN</td>\n",
       "      <td>NaN</td>\n",
       "      <td>NaN</td>\n",
       "      <td>NaN</td>\n",
       "      <td>NaN</td>\n",
       "      <td>NaN</td>\n",
       "      <td>NaN</td>\n",
       "      <td>NaN</td>\n",
       "      <td>NaN</td>\n",
       "    </tr>\n",
       "    <tr>\n",
       "      <th>395</th>\n",
       "      <td>1</td>\n",
       "      <td>6.011940e+06</td>\n",
       "      <td>NaN</td>\n",
       "      <td>NaN</td>\n",
       "      <td>NaN</td>\n",
       "      <td>NaN</td>\n",
       "      <td>NaN</td>\n",
       "      <td>NaN</td>\n",
       "      <td>NaN</td>\n",
       "      <td>NaN</td>\n",
       "      <td>...</td>\n",
       "      <td>0.38</td>\n",
       "      <td>5.0</td>\n",
       "      <td>12.36</td>\n",
       "      <td>-0.42</td>\n",
       "      <td>0.43</td>\n",
       "      <td>3.41</td>\n",
       "      <td>-0.28</td>\n",
       "      <td>0.24</td>\n",
       "      <td>ATR</td>\n",
       "      <td>NaN</td>\n",
       "    </tr>\n",
       "    <tr>\n",
       "      <th>...</th>\n",
       "      <td>...</td>\n",
       "      <td>...</td>\n",
       "      <td>...</td>\n",
       "      <td>...</td>\n",
       "      <td>...</td>\n",
       "      <td>...</td>\n",
       "      <td>...</td>\n",
       "      <td>...</td>\n",
       "      <td>...</td>\n",
       "      <td>...</td>\n",
       "      <td>...</td>\n",
       "      <td>...</td>\n",
       "      <td>...</td>\n",
       "      <td>...</td>\n",
       "      <td>...</td>\n",
       "      <td>...</td>\n",
       "      <td>...</td>\n",
       "      <td>...</td>\n",
       "      <td>...</td>\n",
       "      <td>...</td>\n",
       "      <td>...</td>\n",
       "    </tr>\n",
       "    <tr>\n",
       "      <th>1633</th>\n",
       "      <td>2429</td>\n",
       "      <td>1.081331e+09</td>\n",
       "      <td>NaN</td>\n",
       "      <td>NaN</td>\n",
       "      <td>NaN</td>\n",
       "      <td>NaN</td>\n",
       "      <td>NaN</td>\n",
       "      <td>NaN</td>\n",
       "      <td>NaN</td>\n",
       "      <td>NaN</td>\n",
       "      <td>...</td>\n",
       "      <td>0.58</td>\n",
       "      <td>11.0</td>\n",
       "      <td>11.86</td>\n",
       "      <td>0.18</td>\n",
       "      <td>0.15</td>\n",
       "      <td>7.08</td>\n",
       "      <td>0.09</td>\n",
       "      <td>-0.35</td>\n",
       "      <td>ATR</td>\n",
       "      <td>NaN</td>\n",
       "    </tr>\n",
       "    <tr>\n",
       "      <th>2204</th>\n",
       "      <td>3563</td>\n",
       "      <td>1.098942e+09</td>\n",
       "      <td>NaN</td>\n",
       "      <td>NaN</td>\n",
       "      <td>NaN</td>\n",
       "      <td>NaN</td>\n",
       "      <td>NaN</td>\n",
       "      <td>NaN</td>\n",
       "      <td>NaN</td>\n",
       "      <td>NaN</td>\n",
       "      <td>...</td>\n",
       "      <td>0.41</td>\n",
       "      <td>118.0</td>\n",
       "      <td>12.11</td>\n",
       "      <td>-0.26</td>\n",
       "      <td>-0.33</td>\n",
       "      <td>6.86</td>\n",
       "      <td>-0.23</td>\n",
       "      <td>-0.32</td>\n",
       "      <td>WTR</td>\n",
       "      <td>NaN</td>\n",
       "    </tr>\n",
       "    <tr>\n",
       "      <th>2226</th>\n",
       "      <td>3605</td>\n",
       "      <td>1.099823e+09</td>\n",
       "      <td>NaN</td>\n",
       "      <td>NaN</td>\n",
       "      <td>NaN</td>\n",
       "      <td>NaN</td>\n",
       "      <td>NaN</td>\n",
       "      <td>NaN</td>\n",
       "      <td>NaN</td>\n",
       "      <td>NaN</td>\n",
       "      <td>...</td>\n",
       "      <td>1.07</td>\n",
       "      <td>130.0</td>\n",
       "      <td>12.21</td>\n",
       "      <td>-0.63</td>\n",
       "      <td>0.13</td>\n",
       "      <td>3.65</td>\n",
       "      <td>-0.64</td>\n",
       "      <td>0.18</td>\n",
       "      <td>obl</td>\n",
       "      <td>NaN</td>\n",
       "    </tr>\n",
       "    <tr>\n",
       "      <th>394</th>\n",
       "      <td>688</td>\n",
       "      <td>NaN</td>\n",
       "      <td>OD</td>\n",
       "      <td>0</td>\n",
       "      <td>114.0</td>\n",
       "      <td>42.36554</td>\n",
       "      <td>42.24300</td>\n",
       "      <td>0.12252</td>\n",
       "      <td>NaN</td>\n",
       "      <td>117.50</td>\n",
       "      <td>...</td>\n",
       "      <td>NaN</td>\n",
       "      <td>NaN</td>\n",
       "      <td>NaN</td>\n",
       "      <td>NaN</td>\n",
       "      <td>NaN</td>\n",
       "      <td>NaN</td>\n",
       "      <td>NaN</td>\n",
       "      <td>NaN</td>\n",
       "      <td>NaN</td>\n",
       "      <td>NaN</td>\n",
       "    </tr>\n",
       "    <tr>\n",
       "      <th>1303</th>\n",
       "      <td>1774</td>\n",
       "      <td>NaN</td>\n",
       "      <td>NaN</td>\n",
       "      <td>NaN</td>\n",
       "      <td>NaN</td>\n",
       "      <td>NaN</td>\n",
       "      <td>NaN</td>\n",
       "      <td>NaN</td>\n",
       "      <td>NaN</td>\n",
       "      <td>NaN</td>\n",
       "      <td>...</td>\n",
       "      <td>1.49</td>\n",
       "      <td>81.0</td>\n",
       "      <td>12.50</td>\n",
       "      <td>-0.22</td>\n",
       "      <td>0.43</td>\n",
       "      <td>5.96</td>\n",
       "      <td>-0.16</td>\n",
       "      <td>0.03</td>\n",
       "      <td>WTR</td>\n",
       "      <td>NaN</td>\n",
       "    </tr>\n",
       "  </tbody>\n",
       "</table>\n",
       "<p>2354 rows × 49 columns</p>\n",
       "</div>"
      ],
      "text/plain": [
       "        id           NHC C_Eye C_Mode  C_K_Axis      C_K2      C_K1  C_K_Ast  \\\n",
       "0      697  1.564600e+04    OS      0      92.0  43.64694  42.54171  1.10520   \n",
       "1      707  7.555700e+04    OD      0      88.0  43.66778  42.39215  1.27563   \n",
       "2      690  5.146540e+05    OD      0      90.0  43.65411  42.34524  1.30885   \n",
       "3      889  1.751981e+06    OD      0      67.0  42.79926  41.88031  0.91898   \n",
       "395      1  6.011940e+06   NaN    NaN       NaN       NaN       NaN      NaN   \n",
       "...    ...           ...   ...    ...       ...       ...       ...      ...   \n",
       "1633  2429  1.081331e+09   NaN    NaN       NaN       NaN       NaN      NaN   \n",
       "2204  3563  1.098942e+09   NaN    NaN       NaN       NaN       NaN      NaN   \n",
       "2226  3605  1.099823e+09   NaN    NaN       NaN       NaN       NaN      NaN   \n",
       "394    688           NaN    OD      0     114.0  42.36554  42.24300  0.12252   \n",
       "1303  1774           NaN   NaN    NaN       NaN       NaN       NaN      NaN   \n",
       "\n",
       "      C_K_Ast_Type  C_TCA_Axis  ...  L_AST  L_AXIS  L_WTW  L_ICX  L_ICY  L_PD  \\\n",
       "0              NaN       97.17  ...    NaN     NaN    NaN    NaN    NaN   NaN   \n",
       "1              NaN       82.47  ...    NaN     NaN    NaN    NaN    NaN   NaN   \n",
       "2              NaN       84.29  ...    NaN     NaN    NaN    NaN    NaN   NaN   \n",
       "3              NaN       59.32  ...    NaN     NaN    NaN    NaN    NaN   NaN   \n",
       "395            NaN         NaN  ...   0.38     5.0  12.36  -0.42   0.43  3.41   \n",
       "...            ...         ...  ...    ...     ...    ...    ...    ...   ...   \n",
       "1633           NaN         NaN  ...   0.58    11.0  11.86   0.18   0.15  7.08   \n",
       "2204           NaN         NaN  ...   0.41   118.0  12.11  -0.26  -0.33  6.86   \n",
       "2226           NaN         NaN  ...   1.07   130.0  12.21  -0.63   0.13  3.65   \n",
       "394            NaN      117.50  ...    NaN     NaN    NaN    NaN    NaN   NaN   \n",
       "1303           NaN         NaN  ...   1.49    81.0  12.50  -0.22   0.43  5.96   \n",
       "\n",
       "      L_PCX  L_PCY  L_Ast_Type  L_Surgery_State  \n",
       "0       NaN    NaN         NaN              NaN  \n",
       "1       NaN    NaN         NaN              NaN  \n",
       "2       NaN    NaN         NaN              NaN  \n",
       "3       NaN    NaN         NaN              NaN  \n",
       "395   -0.28   0.24         ATR              NaN  \n",
       "...     ...    ...         ...              ...  \n",
       "1633   0.09  -0.35         ATR              NaN  \n",
       "2204  -0.23  -0.32         WTR              NaN  \n",
       "2226  -0.64   0.18         obl              NaN  \n",
       "394     NaN    NaN         NaN              NaN  \n",
       "1303  -0.16   0.03         WTR              NaN  \n",
       "\n",
       "[2354 rows x 49 columns]"
      ]
     },
     "execution_count": 172,
     "metadata": {},
     "output_type": "execute_result"
    }
   ],
   "source": [
    "df_Phakic.sort_values(by='NHC',ascending=True)"
   ]
  },
  {
   "cell_type": "code",
   "execution_count": 173,
   "metadata": {},
   "outputs": [],
   "source": [
    "#Filter DataFrame to keep rows with duplicate values in column 'A'\n",
    "df_Phakic_sorted = df_Phakic[df_Phakic.duplicated(subset=['NHC'], keep = False)]\n",
    "df_Phakic_sorted = df_Phakic_sorted.sort_values(by = ['NHC'], ascending= True)\n"
   ]
  },
  {
   "cell_type": "code",
   "execution_count": 174,
   "metadata": {},
   "outputs": [
    {
     "data": {
      "text/plain": [
       "(2354, 49)"
      ]
     },
     "execution_count": 174,
     "metadata": {},
     "output_type": "execute_result"
    }
   ],
   "source": [
    "df_Phakic.shape"
   ]
  },
  {
   "cell_type": "code",
   "execution_count": 175,
   "metadata": {},
   "outputs": [
    {
     "data": {
      "text/plain": [
       "(598, 49)"
      ]
     },
     "execution_count": 175,
     "metadata": {},
     "output_type": "execute_result"
    }
   ],
   "source": [
    "df_Phakic_sorted.shape"
   ]
  },
  {
   "cell_type": "code",
   "execution_count": 176,
   "metadata": {},
   "outputs": [],
   "source": [
    "# garantir que não haja valores sem NHC \n",
    "df_Phakic_sorted = df_Phakic_sorted.dropna(subset=['NHC'])"
   ]
  },
  {
   "cell_type": "code",
   "execution_count": 177,
   "metadata": {},
   "outputs": [
    {
     "data": {
      "text/plain": [
       "(596, 49)"
      ]
     },
     "execution_count": 177,
     "metadata": {},
     "output_type": "execute_result"
    }
   ],
   "source": [
    "df_Phakic_sorted.shape"
   ]
  },
  {
   "cell_type": "code",
   "execution_count": null,
   "metadata": {},
   "outputs": [],
   "source": []
  },
  {
   "cell_type": "code",
   "execution_count": 59,
   "metadata": {},
   "outputs": [],
   "source": [
    "# with pd.ExcelWriter(\"test2.xlsx\") as writer: # the name of the xlsx can be anything\n",
    "#     df_Phakic_sorted.to_excel(writer,sheet_name='Phakic',index=False)"
   ]
  },
  {
   "cell_type": "markdown",
   "metadata": {},
   "source": [
    "#### Not Phakic "
   ]
  },
  {
   "cell_type": "code",
   "execution_count": 178,
   "metadata": {},
   "outputs": [],
   "source": [
    "# Not phakic Data\n",
    "# dfL_notphakic1 \n",
    "\n",
    "dfL_notphakic1 = dfL_Notphakic.sort_values(by='id', ascending=True)\n",
    "dfL_notphakic1 = dfL_notphakic1.drop_duplicates(subset='NHC' , keep='first')"
   ]
  },
  {
   "cell_type": "code",
   "execution_count": 179,
   "metadata": {},
   "outputs": [],
   "source": [
    "# dfC1 - with unique NHC in Cassini \n",
    "# dfL_notphakic1 - Lenstar\n",
    "\n",
    "df_notphakic = pd.concat([dfC1, dfL_notphakic1], ignore_index=True,axis=0)"
   ]
  },
  {
   "cell_type": "code",
   "execution_count": 180,
   "metadata": {},
   "outputs": [
    {
     "data": {
      "text/html": [
       "<div>\n",
       "<style scoped>\n",
       "    .dataframe tbody tr th:only-of-type {\n",
       "        vertical-align: middle;\n",
       "    }\n",
       "\n",
       "    .dataframe tbody tr th {\n",
       "        vertical-align: top;\n",
       "    }\n",
       "\n",
       "    .dataframe thead th {\n",
       "        text-align: right;\n",
       "    }\n",
       "</style>\n",
       "<table border=\"1\" class=\"dataframe\">\n",
       "  <thead>\n",
       "    <tr style=\"text-align: right;\">\n",
       "      <th></th>\n",
       "      <th>id</th>\n",
       "      <th>NHC</th>\n",
       "      <th>C_Eye</th>\n",
       "      <th>C_Mode</th>\n",
       "      <th>C_K_Axis</th>\n",
       "      <th>C_K2</th>\n",
       "      <th>C_K1</th>\n",
       "      <th>C_K_Ast</th>\n",
       "      <th>C_K_Ast_Type</th>\n",
       "      <th>C_TCA_Axis</th>\n",
       "      <th>...</th>\n",
       "      <th>L_AST</th>\n",
       "      <th>L_AXIS</th>\n",
       "      <th>L_WTW</th>\n",
       "      <th>L_ICX</th>\n",
       "      <th>L_ICY</th>\n",
       "      <th>L_PD</th>\n",
       "      <th>L_PCX</th>\n",
       "      <th>L_PCY</th>\n",
       "      <th>L_Ast_Type</th>\n",
       "      <th>L_Surgery_State</th>\n",
       "    </tr>\n",
       "  </thead>\n",
       "  <tbody>\n",
       "    <tr>\n",
       "      <th>0</th>\n",
       "      <td>697</td>\n",
       "      <td>1.564600e+04</td>\n",
       "      <td>OS</td>\n",
       "      <td>0</td>\n",
       "      <td>92.0</td>\n",
       "      <td>43.64694</td>\n",
       "      <td>42.54171</td>\n",
       "      <td>1.10520</td>\n",
       "      <td>NaN</td>\n",
       "      <td>97.17</td>\n",
       "      <td>...</td>\n",
       "      <td>NaN</td>\n",
       "      <td>NaN</td>\n",
       "      <td>NaN</td>\n",
       "      <td>NaN</td>\n",
       "      <td>NaN</td>\n",
       "      <td>NaN</td>\n",
       "      <td>NaN</td>\n",
       "      <td>NaN</td>\n",
       "      <td>NaN</td>\n",
       "      <td>NaN</td>\n",
       "    </tr>\n",
       "    <tr>\n",
       "      <th>1</th>\n",
       "      <td>707</td>\n",
       "      <td>7.555700e+04</td>\n",
       "      <td>OD</td>\n",
       "      <td>0</td>\n",
       "      <td>88.0</td>\n",
       "      <td>43.66778</td>\n",
       "      <td>42.39215</td>\n",
       "      <td>1.27563</td>\n",
       "      <td>NaN</td>\n",
       "      <td>82.47</td>\n",
       "      <td>...</td>\n",
       "      <td>NaN</td>\n",
       "      <td>NaN</td>\n",
       "      <td>NaN</td>\n",
       "      <td>NaN</td>\n",
       "      <td>NaN</td>\n",
       "      <td>NaN</td>\n",
       "      <td>NaN</td>\n",
       "      <td>NaN</td>\n",
       "      <td>NaN</td>\n",
       "      <td>NaN</td>\n",
       "    </tr>\n",
       "    <tr>\n",
       "      <th>2</th>\n",
       "      <td>690</td>\n",
       "      <td>5.146540e+05</td>\n",
       "      <td>OD</td>\n",
       "      <td>0</td>\n",
       "      <td>90.0</td>\n",
       "      <td>43.65411</td>\n",
       "      <td>42.34524</td>\n",
       "      <td>1.30885</td>\n",
       "      <td>NaN</td>\n",
       "      <td>84.29</td>\n",
       "      <td>...</td>\n",
       "      <td>NaN</td>\n",
       "      <td>NaN</td>\n",
       "      <td>NaN</td>\n",
       "      <td>NaN</td>\n",
       "      <td>NaN</td>\n",
       "      <td>NaN</td>\n",
       "      <td>NaN</td>\n",
       "      <td>NaN</td>\n",
       "      <td>NaN</td>\n",
       "      <td>NaN</td>\n",
       "    </tr>\n",
       "    <tr>\n",
       "      <th>3</th>\n",
       "      <td>889</td>\n",
       "      <td>1.751981e+06</td>\n",
       "      <td>OD</td>\n",
       "      <td>0</td>\n",
       "      <td>67.0</td>\n",
       "      <td>42.79926</td>\n",
       "      <td>41.88031</td>\n",
       "      <td>0.91898</td>\n",
       "      <td>NaN</td>\n",
       "      <td>59.32</td>\n",
       "      <td>...</td>\n",
       "      <td>NaN</td>\n",
       "      <td>NaN</td>\n",
       "      <td>NaN</td>\n",
       "      <td>NaN</td>\n",
       "      <td>NaN</td>\n",
       "      <td>NaN</td>\n",
       "      <td>NaN</td>\n",
       "      <td>NaN</td>\n",
       "      <td>NaN</td>\n",
       "      <td>NaN</td>\n",
       "    </tr>\n",
       "    <tr>\n",
       "      <th>4</th>\n",
       "      <td>679</td>\n",
       "      <td>1.009245e+07</td>\n",
       "      <td>OD</td>\n",
       "      <td>0</td>\n",
       "      <td>77.0</td>\n",
       "      <td>42.16931</td>\n",
       "      <td>41.60190</td>\n",
       "      <td>0.56741</td>\n",
       "      <td>NaN</td>\n",
       "      <td>77.71</td>\n",
       "      <td>...</td>\n",
       "      <td>NaN</td>\n",
       "      <td>NaN</td>\n",
       "      <td>NaN</td>\n",
       "      <td>NaN</td>\n",
       "      <td>NaN</td>\n",
       "      <td>NaN</td>\n",
       "      <td>NaN</td>\n",
       "      <td>NaN</td>\n",
       "      <td>NaN</td>\n",
       "      <td>NaN</td>\n",
       "    </tr>\n",
       "    <tr>\n",
       "      <th>...</th>\n",
       "      <td>...</td>\n",
       "      <td>...</td>\n",
       "      <td>...</td>\n",
       "      <td>...</td>\n",
       "      <td>...</td>\n",
       "      <td>...</td>\n",
       "      <td>...</td>\n",
       "      <td>...</td>\n",
       "      <td>...</td>\n",
       "      <td>...</td>\n",
       "      <td>...</td>\n",
       "      <td>...</td>\n",
       "      <td>...</td>\n",
       "      <td>...</td>\n",
       "      <td>...</td>\n",
       "      <td>...</td>\n",
       "      <td>...</td>\n",
       "      <td>...</td>\n",
       "      <td>...</td>\n",
       "      <td>...</td>\n",
       "      <td>...</td>\n",
       "    </tr>\n",
       "    <tr>\n",
       "      <th>390</th>\n",
       "      <td>132</td>\n",
       "      <td>1.106272e+08</td>\n",
       "      <td>OD</td>\n",
       "      <td>0</td>\n",
       "      <td>37.0</td>\n",
       "      <td>44.58665</td>\n",
       "      <td>43.86575</td>\n",
       "      <td>0.72089</td>\n",
       "      <td>NaN</td>\n",
       "      <td>33.96</td>\n",
       "      <td>...</td>\n",
       "      <td>NaN</td>\n",
       "      <td>NaN</td>\n",
       "      <td>NaN</td>\n",
       "      <td>NaN</td>\n",
       "      <td>NaN</td>\n",
       "      <td>NaN</td>\n",
       "      <td>NaN</td>\n",
       "      <td>NaN</td>\n",
       "      <td>NaN</td>\n",
       "      <td>NaN</td>\n",
       "    </tr>\n",
       "    <tr>\n",
       "      <th>391</th>\n",
       "      <td>120</td>\n",
       "      <td>1.106329e+08</td>\n",
       "      <td>OD</td>\n",
       "      <td>0</td>\n",
       "      <td>155.0</td>\n",
       "      <td>45.61933</td>\n",
       "      <td>45.00474</td>\n",
       "      <td>0.61462</td>\n",
       "      <td>NaN</td>\n",
       "      <td>147.08</td>\n",
       "      <td>...</td>\n",
       "      <td>NaN</td>\n",
       "      <td>NaN</td>\n",
       "      <td>NaN</td>\n",
       "      <td>NaN</td>\n",
       "      <td>NaN</td>\n",
       "      <td>NaN</td>\n",
       "      <td>NaN</td>\n",
       "      <td>NaN</td>\n",
       "      <td>NaN</td>\n",
       "      <td>NaN</td>\n",
       "    </tr>\n",
       "    <tr>\n",
       "      <th>392</th>\n",
       "      <td>122</td>\n",
       "      <td>1.106426e+08</td>\n",
       "      <td>OD</td>\n",
       "      <td>0</td>\n",
       "      <td>30.0</td>\n",
       "      <td>44.08221</td>\n",
       "      <td>43.58793</td>\n",
       "      <td>0.49426</td>\n",
       "      <td>NaN</td>\n",
       "      <td>24.50</td>\n",
       "      <td>...</td>\n",
       "      <td>NaN</td>\n",
       "      <td>NaN</td>\n",
       "      <td>NaN</td>\n",
       "      <td>NaN</td>\n",
       "      <td>NaN</td>\n",
       "      <td>NaN</td>\n",
       "      <td>NaN</td>\n",
       "      <td>NaN</td>\n",
       "      <td>NaN</td>\n",
       "      <td>NaN</td>\n",
       "    </tr>\n",
       "    <tr>\n",
       "      <th>393</th>\n",
       "      <td>297</td>\n",
       "      <td>1.001919e+09</td>\n",
       "      <td>OS</td>\n",
       "      <td>0</td>\n",
       "      <td>165.0</td>\n",
       "      <td>41.70636</td>\n",
       "      <td>41.32661</td>\n",
       "      <td>0.37979</td>\n",
       "      <td>NaN</td>\n",
       "      <td>156.85</td>\n",
       "      <td>...</td>\n",
       "      <td>NaN</td>\n",
       "      <td>NaN</td>\n",
       "      <td>NaN</td>\n",
       "      <td>NaN</td>\n",
       "      <td>NaN</td>\n",
       "      <td>NaN</td>\n",
       "      <td>NaN</td>\n",
       "      <td>NaN</td>\n",
       "      <td>NaN</td>\n",
       "      <td>NaN</td>\n",
       "    </tr>\n",
       "    <tr>\n",
       "      <th>394</th>\n",
       "      <td>688</td>\n",
       "      <td>NaN</td>\n",
       "      <td>OD</td>\n",
       "      <td>0</td>\n",
       "      <td>114.0</td>\n",
       "      <td>42.36554</td>\n",
       "      <td>42.24300</td>\n",
       "      <td>0.12252</td>\n",
       "      <td>NaN</td>\n",
       "      <td>117.50</td>\n",
       "      <td>...</td>\n",
       "      <td>NaN</td>\n",
       "      <td>NaN</td>\n",
       "      <td>NaN</td>\n",
       "      <td>NaN</td>\n",
       "      <td>NaN</td>\n",
       "      <td>NaN</td>\n",
       "      <td>NaN</td>\n",
       "      <td>NaN</td>\n",
       "      <td>NaN</td>\n",
       "      <td>NaN</td>\n",
       "    </tr>\n",
       "  </tbody>\n",
       "</table>\n",
       "<p>500 rows × 49 columns</p>\n",
       "</div>"
      ],
      "text/plain": [
       "      id           NHC C_Eye C_Mode  C_K_Axis      C_K2      C_K1  C_K_Ast  \\\n",
       "0    697  1.564600e+04    OS      0      92.0  43.64694  42.54171  1.10520   \n",
       "1    707  7.555700e+04    OD      0      88.0  43.66778  42.39215  1.27563   \n",
       "2    690  5.146540e+05    OD      0      90.0  43.65411  42.34524  1.30885   \n",
       "3    889  1.751981e+06    OD      0      67.0  42.79926  41.88031  0.91898   \n",
       "4    679  1.009245e+07    OD      0      77.0  42.16931  41.60190  0.56741   \n",
       "..   ...           ...   ...    ...       ...       ...       ...      ...   \n",
       "390  132  1.106272e+08    OD      0      37.0  44.58665  43.86575  0.72089   \n",
       "391  120  1.106329e+08    OD      0     155.0  45.61933  45.00474  0.61462   \n",
       "392  122  1.106426e+08    OD      0      30.0  44.08221  43.58793  0.49426   \n",
       "393  297  1.001919e+09    OS      0     165.0  41.70636  41.32661  0.37979   \n",
       "394  688           NaN    OD      0     114.0  42.36554  42.24300  0.12252   \n",
       "\n",
       "     C_K_Ast_Type  C_TCA_Axis  ...  L_AST  L_AXIS  L_WTW  L_ICX  L_ICY  L_PD  \\\n",
       "0             NaN       97.17  ...    NaN     NaN    NaN    NaN    NaN   NaN   \n",
       "1             NaN       82.47  ...    NaN     NaN    NaN    NaN    NaN   NaN   \n",
       "2             NaN       84.29  ...    NaN     NaN    NaN    NaN    NaN   NaN   \n",
       "3             NaN       59.32  ...    NaN     NaN    NaN    NaN    NaN   NaN   \n",
       "4             NaN       77.71  ...    NaN     NaN    NaN    NaN    NaN   NaN   \n",
       "..            ...         ...  ...    ...     ...    ...    ...    ...   ...   \n",
       "390           NaN       33.96  ...    NaN     NaN    NaN    NaN    NaN   NaN   \n",
       "391           NaN      147.08  ...    NaN     NaN    NaN    NaN    NaN   NaN   \n",
       "392           NaN       24.50  ...    NaN     NaN    NaN    NaN    NaN   NaN   \n",
       "393           NaN      156.85  ...    NaN     NaN    NaN    NaN    NaN   NaN   \n",
       "394           NaN      117.50  ...    NaN     NaN    NaN    NaN    NaN   NaN   \n",
       "\n",
       "     L_PCX  L_PCY  L_Ast_Type  L_Surgery_State  \n",
       "0      NaN    NaN         NaN              NaN  \n",
       "1      NaN    NaN         NaN              NaN  \n",
       "2      NaN    NaN         NaN              NaN  \n",
       "3      NaN    NaN         NaN              NaN  \n",
       "4      NaN    NaN         NaN              NaN  \n",
       "..     ...    ...         ...              ...  \n",
       "390    NaN    NaN         NaN              NaN  \n",
       "391    NaN    NaN         NaN              NaN  \n",
       "392    NaN    NaN         NaN              NaN  \n",
       "393    NaN    NaN         NaN              NaN  \n",
       "394    NaN    NaN         NaN              NaN  \n",
       "\n",
       "[500 rows x 49 columns]"
      ]
     },
     "execution_count": 180,
     "metadata": {},
     "output_type": "execute_result"
    }
   ],
   "source": [
    "df_notphakic.sort_values(by='NHC',ascending=True)"
   ]
  },
  {
   "cell_type": "code",
   "execution_count": 181,
   "metadata": {},
   "outputs": [],
   "source": [
    "df_notphakic_sorted = df_notphakic[df_notphakic.duplicated(subset=['NHC'], keep = False)]\n",
    "df_notphakic_sorted = df_notphakic_sorted.sort_values(by = ['NHC'], ascending= True)\n"
   ]
  },
  {
   "cell_type": "code",
   "execution_count": 182,
   "metadata": {},
   "outputs": [
    {
     "data": {
      "text/plain": [
       "(500, 49)"
      ]
     },
     "execution_count": 182,
     "metadata": {},
     "output_type": "execute_result"
    }
   ],
   "source": [
    "df_notphakic.shape"
   ]
  },
  {
   "cell_type": "code",
   "execution_count": 183,
   "metadata": {},
   "outputs": [
    {
     "data": {
      "text/plain": [
       "(82, 49)"
      ]
     },
     "execution_count": 183,
     "metadata": {},
     "output_type": "execute_result"
    }
   ],
   "source": [
    "df_notphakic_sorted.shape"
   ]
  },
  {
   "cell_type": "code",
   "execution_count": 50,
   "metadata": {},
   "outputs": [
    {
     "data": {
      "text/plain": [
       "(395, 29)"
      ]
     },
     "execution_count": 50,
     "metadata": {},
     "output_type": "execute_result"
    }
   ],
   "source": [
    "dfC1.shape"
   ]
  },
  {
   "cell_type": "markdown",
   "metadata": {},
   "source": [
    "### Combine Lenstar and Cassini "
   ]
  },
  {
   "cell_type": "markdown",
   "metadata": {},
   "source": [
    "#### Combine Lenstar and Cassini Phakic"
   ]
  },
  {
   "cell_type": "code",
   "execution_count": 184,
   "metadata": {},
   "outputs": [],
   "source": [
    "df_junto_phakic = df_Phakic_sorted.groupby('NHC', as_index=False).first()"
   ]
  },
  {
   "cell_type": "code",
   "execution_count": 185,
   "metadata": {},
   "outputs": [
    {
     "data": {
      "text/plain": [
       "(298, 49)"
      ]
     },
     "execution_count": 185,
     "metadata": {},
     "output_type": "execute_result"
    }
   ],
   "source": [
    "df_junto_phakic.shape"
   ]
  },
  {
   "cell_type": "code",
   "execution_count": 186,
   "metadata": {},
   "outputs": [
    {
     "data": {
      "text/plain": [
       "(596, 49)"
      ]
     },
     "execution_count": 186,
     "metadata": {},
     "output_type": "execute_result"
    }
   ],
   "source": [
    "df_Phakic_sorted.shape"
   ]
  },
  {
   "cell_type": "markdown",
   "metadata": {},
   "source": [
    "#### Combine Lenstar and Cassini NOT Phakic"
   ]
  },
  {
   "cell_type": "code",
   "execution_count": 187,
   "metadata": {},
   "outputs": [],
   "source": [
    "df_junto_Notphakic = df_notphakic_sorted.groupby('NHC', as_index=False).first()"
   ]
  },
  {
   "cell_type": "code",
   "execution_count": 188,
   "metadata": {},
   "outputs": [
    {
     "data": {
      "text/plain": [
       "(82, 49)"
      ]
     },
     "execution_count": 188,
     "metadata": {},
     "output_type": "execute_result"
    }
   ],
   "source": [
    "df_notphakic_sorted.shape"
   ]
  },
  {
   "cell_type": "code",
   "execution_count": 189,
   "metadata": {},
   "outputs": [
    {
     "data": {
      "text/plain": [
       "(41, 49)"
      ]
     },
     "execution_count": 189,
     "metadata": {},
     "output_type": "execute_result"
    }
   ],
   "source": [
    "df_junto_Notphakic.shape"
   ]
  },
  {
   "cell_type": "markdown",
   "metadata": {},
   "source": [
    "df_junto_phakic\n",
    "df_junto_Notphakic"
   ]
  },
  {
   "cell_type": "code",
   "execution_count": 101,
   "metadata": {},
   "outputs": [
    {
     "data": {
      "text/plain": [
       "Index(['NHC', 'id', 'C_Eye', 'C_Mode', 'C_K_Axis', 'C_K2', 'C_K1', 'C_K_Ast',\n",
       "       'C_K_Ast_Type', 'C_TCA_Axis', 'C_TCA_Ast', 'C_TCA_Ast_Type',\n",
       "       'C_Ant_Axis', 'C_Ant_D2', 'C_Ant_D1', 'C_Ant_Ast', 'C_Ant_Ast_Type',\n",
       "       'C_Post_Axis', 'C_Post_D2', 'C_Post_D1', 'C_Post_Ast',\n",
       "       'C_Post_Ast_Type', 'C_Surgery_State', 'Quality_Factor_Lateral_Value',\n",
       "       'Quality_Factor_Axial_Value', 'Quality_Factor_Coverage_Value',\n",
       "       'Quality_Factor_Stability_Value', 'Quality_Factor_Posterior_Value',\n",
       "       'Examination_Date', 'L_Eye', 'L_Mode', 'L_CCT', 'L_AD', 'L_LT', 'L_AL',\n",
       "       'L_R1', 'L_K1', 'L_R2', 'L_K2', 'L_AST', 'L_AXIS', 'L_WTW', 'L_ICX',\n",
       "       'L_ICY', 'L_PD', 'L_PCX', 'L_PCY', 'L_Ast_Type', 'L_Surgery_State'],\n",
       "      dtype='object')"
      ]
     },
     "execution_count": 101,
     "metadata": {},
     "output_type": "execute_result"
    }
   ],
   "source": [
    "df_junto_phakic.columns"
   ]
  },
  {
   "cell_type": "markdown",
   "metadata": {},
   "source": [
    "### Converting to Excel"
   ]
  },
  {
   "cell_type": "code",
   "execution_count": 191,
   "metadata": {},
   "outputs": [
    {
     "data": {
      "text/plain": [
       "(41, 49)"
      ]
     },
     "execution_count": 191,
     "metadata": {},
     "output_type": "execute_result"
    }
   ],
   "source": [
    "df_junto_Notphakic.shape"
   ]
  },
  {
   "cell_type": "code",
   "execution_count": 194,
   "metadata": {},
   "outputs": [],
   "source": [
    "# # Drop empty columns - Perigoso assume vazio. NaN e zero como empty\n",
    "df_junto_phakic1 = df_junto_phakic.dropna(axis=1, how='all')\n",
    "df_junto_Notphakic1 = df_junto_Notphakic.dropna(axis=1, how='all')\n"
   ]
  },
  {
   "cell_type": "code",
   "execution_count": 195,
   "metadata": {},
   "outputs": [],
   "source": [
    "with pd.ExcelWriter(\"Double.xlsx\") as writer: # the name of the xlsx can be anything\n",
    "    df_junto_phakic1.to_excel(writer,sheet_name='Phakic',index=False)\n",
    "    df_junto_Notphakic1.to_excel(writer,sheet_name='Not Phakic',index=False)"
   ]
  },
  {
   "cell_type": "code",
   "execution_count": null,
   "metadata": {},
   "outputs": [],
   "source": []
  },
  {
   "cell_type": "code",
   "execution_count": null,
   "metadata": {},
   "outputs": [],
   "source": []
  },
  {
   "cell_type": "markdown",
   "metadata": {},
   "source": [
    "### Extras"
   ]
  },
  {
   "cell_type": "code",
   "execution_count": 123,
   "metadata": {},
   "outputs": [
    {
     "name": "stdout",
     "output_type": "stream",
     "text": [
      "   A     B     C\n",
      "0  1  x, y  p, q\n",
      "1  2  z, w  r, s\n",
      "2  3     q     t\n"
     ]
    }
   ],
   "source": [
    "# Example DataFrame\n",
    "df = pd.DataFrame({'A': [1, 1, 2, 2, 3],\n",
    "                   'B': ['x', 'y', 'z', 'w', 'q'],\n",
    "                   'C': ['p', 'q', 'r', 's', 't']})\n",
    "\n",
    "# Group by column 'A' and aggregate rows by concatenating values of columns 'B' and 'C'\n",
    "merged_df = df.groupby('A').agg({'B': lambda x: ', '.join(x), 'C': lambda x: ', '.join(x)}).reset_index()\n",
    "\n",
    "print(merged_df)\n"
   ]
  },
  {
   "cell_type": "code",
   "execution_count": 119,
   "metadata": {},
   "outputs": [],
   "source": [
    "# # Filter DataFrame to keep rows with duplicate values in column 'A'\n",
    "# duplicate_rows = df[df.duplicated(subset=['A'], keep=False)]\n",
    "\n",
    "#dfL_Notphakic= dfL.drop(dfL[dfL['L_Mode'] == 'Phakic'].index)\n",
    "\n",
    "dfL_Notphakic1 = dfL_Notphakic.sort_values(by='id', ascending=True)\n",
    "dfL_Notphakic1 = dfL_Notphakic1.drop_duplicates(subset='NHC' , keep='first')"
   ]
  },
  {
   "cell_type": "code",
   "execution_count": 120,
   "metadata": {},
   "outputs": [],
   "source": [
    "df_Phakic = pd.concat([dfC1, dfL_phakic1], ignore_index=True,axis=0)"
   ]
  },
  {
   "cell_type": "code",
   "execution_count": 121,
   "metadata": {},
   "outputs": [
    {
     "data": {
      "text/html": [
       "<div>\n",
       "<style scoped>\n",
       "    .dataframe tbody tr th:only-of-type {\n",
       "        vertical-align: middle;\n",
       "    }\n",
       "\n",
       "    .dataframe tbody tr th {\n",
       "        vertical-align: top;\n",
       "    }\n",
       "\n",
       "    .dataframe thead th {\n",
       "        text-align: right;\n",
       "    }\n",
       "</style>\n",
       "<table border=\"1\" class=\"dataframe\">\n",
       "  <thead>\n",
       "    <tr style=\"text-align: right;\">\n",
       "      <th></th>\n",
       "      <th>id</th>\n",
       "      <th>NHC</th>\n",
       "      <th>C_Eye</th>\n",
       "      <th>C_Mode</th>\n",
       "      <th>C_K_Axis</th>\n",
       "      <th>C_K2</th>\n",
       "      <th>C_K1</th>\n",
       "      <th>C_K_Ast</th>\n",
       "      <th>C_K_Ast_Type</th>\n",
       "      <th>C_TCA_Axis</th>\n",
       "      <th>...</th>\n",
       "      <th>L_AST</th>\n",
       "      <th>L_AXIS</th>\n",
       "      <th>L_WTW</th>\n",
       "      <th>L_ICX</th>\n",
       "      <th>L_ICY</th>\n",
       "      <th>L_PD</th>\n",
       "      <th>L_PCX</th>\n",
       "      <th>L_PCY</th>\n",
       "      <th>L_Ast_Type</th>\n",
       "      <th>L_Surgery_State</th>\n",
       "    </tr>\n",
       "  </thead>\n",
       "  <tbody>\n",
       "    <tr>\n",
       "      <th>0</th>\n",
       "      <td>697</td>\n",
       "      <td>1.564600e+04</td>\n",
       "      <td>OS</td>\n",
       "      <td>0</td>\n",
       "      <td>92.0</td>\n",
       "      <td>43.64694</td>\n",
       "      <td>42.54171</td>\n",
       "      <td>1.10520</td>\n",
       "      <td>NaN</td>\n",
       "      <td>97.17</td>\n",
       "      <td>...</td>\n",
       "      <td>NaN</td>\n",
       "      <td>NaN</td>\n",
       "      <td>NaN</td>\n",
       "      <td>NaN</td>\n",
       "      <td>NaN</td>\n",
       "      <td>NaN</td>\n",
       "      <td>NaN</td>\n",
       "      <td>NaN</td>\n",
       "      <td>NaN</td>\n",
       "      <td>NaN</td>\n",
       "    </tr>\n",
       "    <tr>\n",
       "      <th>1</th>\n",
       "      <td>707</td>\n",
       "      <td>7.555700e+04</td>\n",
       "      <td>OD</td>\n",
       "      <td>0</td>\n",
       "      <td>88.0</td>\n",
       "      <td>43.66778</td>\n",
       "      <td>42.39215</td>\n",
       "      <td>1.27563</td>\n",
       "      <td>NaN</td>\n",
       "      <td>82.47</td>\n",
       "      <td>...</td>\n",
       "      <td>NaN</td>\n",
       "      <td>NaN</td>\n",
       "      <td>NaN</td>\n",
       "      <td>NaN</td>\n",
       "      <td>NaN</td>\n",
       "      <td>NaN</td>\n",
       "      <td>NaN</td>\n",
       "      <td>NaN</td>\n",
       "      <td>NaN</td>\n",
       "      <td>NaN</td>\n",
       "    </tr>\n",
       "    <tr>\n",
       "      <th>2</th>\n",
       "      <td>690</td>\n",
       "      <td>5.146540e+05</td>\n",
       "      <td>OD</td>\n",
       "      <td>0</td>\n",
       "      <td>90.0</td>\n",
       "      <td>43.65411</td>\n",
       "      <td>42.34524</td>\n",
       "      <td>1.30885</td>\n",
       "      <td>NaN</td>\n",
       "      <td>84.29</td>\n",
       "      <td>...</td>\n",
       "      <td>NaN</td>\n",
       "      <td>NaN</td>\n",
       "      <td>NaN</td>\n",
       "      <td>NaN</td>\n",
       "      <td>NaN</td>\n",
       "      <td>NaN</td>\n",
       "      <td>NaN</td>\n",
       "      <td>NaN</td>\n",
       "      <td>NaN</td>\n",
       "      <td>NaN</td>\n",
       "    </tr>\n",
       "    <tr>\n",
       "      <th>3</th>\n",
       "      <td>889</td>\n",
       "      <td>1.751981e+06</td>\n",
       "      <td>OD</td>\n",
       "      <td>0</td>\n",
       "      <td>67.0</td>\n",
       "      <td>42.79926</td>\n",
       "      <td>41.88031</td>\n",
       "      <td>0.91898</td>\n",
       "      <td>NaN</td>\n",
       "      <td>59.32</td>\n",
       "      <td>...</td>\n",
       "      <td>NaN</td>\n",
       "      <td>NaN</td>\n",
       "      <td>NaN</td>\n",
       "      <td>NaN</td>\n",
       "      <td>NaN</td>\n",
       "      <td>NaN</td>\n",
       "      <td>NaN</td>\n",
       "      <td>NaN</td>\n",
       "      <td>NaN</td>\n",
       "      <td>NaN</td>\n",
       "    </tr>\n",
       "    <tr>\n",
       "      <th>4</th>\n",
       "      <td>679</td>\n",
       "      <td>1.009245e+07</td>\n",
       "      <td>OD</td>\n",
       "      <td>0</td>\n",
       "      <td>77.0</td>\n",
       "      <td>42.16931</td>\n",
       "      <td>41.60190</td>\n",
       "      <td>0.56741</td>\n",
       "      <td>NaN</td>\n",
       "      <td>77.71</td>\n",
       "      <td>...</td>\n",
       "      <td>NaN</td>\n",
       "      <td>NaN</td>\n",
       "      <td>NaN</td>\n",
       "      <td>NaN</td>\n",
       "      <td>NaN</td>\n",
       "      <td>NaN</td>\n",
       "      <td>NaN</td>\n",
       "      <td>NaN</td>\n",
       "      <td>NaN</td>\n",
       "      <td>NaN</td>\n",
       "    </tr>\n",
       "    <tr>\n",
       "      <th>...</th>\n",
       "      <td>...</td>\n",
       "      <td>...</td>\n",
       "      <td>...</td>\n",
       "      <td>...</td>\n",
       "      <td>...</td>\n",
       "      <td>...</td>\n",
       "      <td>...</td>\n",
       "      <td>...</td>\n",
       "      <td>...</td>\n",
       "      <td>...</td>\n",
       "      <td>...</td>\n",
       "      <td>...</td>\n",
       "      <td>...</td>\n",
       "      <td>...</td>\n",
       "      <td>...</td>\n",
       "      <td>...</td>\n",
       "      <td>...</td>\n",
       "      <td>...</td>\n",
       "      <td>...</td>\n",
       "      <td>...</td>\n",
       "      <td>...</td>\n",
       "    </tr>\n",
       "    <tr>\n",
       "      <th>390</th>\n",
       "      <td>132</td>\n",
       "      <td>1.106272e+08</td>\n",
       "      <td>OD</td>\n",
       "      <td>0</td>\n",
       "      <td>37.0</td>\n",
       "      <td>44.58665</td>\n",
       "      <td>43.86575</td>\n",
       "      <td>0.72089</td>\n",
       "      <td>NaN</td>\n",
       "      <td>33.96</td>\n",
       "      <td>...</td>\n",
       "      <td>NaN</td>\n",
       "      <td>NaN</td>\n",
       "      <td>NaN</td>\n",
       "      <td>NaN</td>\n",
       "      <td>NaN</td>\n",
       "      <td>NaN</td>\n",
       "      <td>NaN</td>\n",
       "      <td>NaN</td>\n",
       "      <td>NaN</td>\n",
       "      <td>NaN</td>\n",
       "    </tr>\n",
       "    <tr>\n",
       "      <th>391</th>\n",
       "      <td>120</td>\n",
       "      <td>1.106329e+08</td>\n",
       "      <td>OD</td>\n",
       "      <td>0</td>\n",
       "      <td>155.0</td>\n",
       "      <td>45.61933</td>\n",
       "      <td>45.00474</td>\n",
       "      <td>0.61462</td>\n",
       "      <td>NaN</td>\n",
       "      <td>147.08</td>\n",
       "      <td>...</td>\n",
       "      <td>NaN</td>\n",
       "      <td>NaN</td>\n",
       "      <td>NaN</td>\n",
       "      <td>NaN</td>\n",
       "      <td>NaN</td>\n",
       "      <td>NaN</td>\n",
       "      <td>NaN</td>\n",
       "      <td>NaN</td>\n",
       "      <td>NaN</td>\n",
       "      <td>NaN</td>\n",
       "    </tr>\n",
       "    <tr>\n",
       "      <th>392</th>\n",
       "      <td>122</td>\n",
       "      <td>1.106426e+08</td>\n",
       "      <td>OD</td>\n",
       "      <td>0</td>\n",
       "      <td>30.0</td>\n",
       "      <td>44.08221</td>\n",
       "      <td>43.58793</td>\n",
       "      <td>0.49426</td>\n",
       "      <td>NaN</td>\n",
       "      <td>24.50</td>\n",
       "      <td>...</td>\n",
       "      <td>NaN</td>\n",
       "      <td>NaN</td>\n",
       "      <td>NaN</td>\n",
       "      <td>NaN</td>\n",
       "      <td>NaN</td>\n",
       "      <td>NaN</td>\n",
       "      <td>NaN</td>\n",
       "      <td>NaN</td>\n",
       "      <td>NaN</td>\n",
       "      <td>NaN</td>\n",
       "    </tr>\n",
       "    <tr>\n",
       "      <th>393</th>\n",
       "      <td>297</td>\n",
       "      <td>1.001919e+09</td>\n",
       "      <td>OS</td>\n",
       "      <td>0</td>\n",
       "      <td>165.0</td>\n",
       "      <td>41.70636</td>\n",
       "      <td>41.32661</td>\n",
       "      <td>0.37979</td>\n",
       "      <td>NaN</td>\n",
       "      <td>156.85</td>\n",
       "      <td>...</td>\n",
       "      <td>NaN</td>\n",
       "      <td>NaN</td>\n",
       "      <td>NaN</td>\n",
       "      <td>NaN</td>\n",
       "      <td>NaN</td>\n",
       "      <td>NaN</td>\n",
       "      <td>NaN</td>\n",
       "      <td>NaN</td>\n",
       "      <td>NaN</td>\n",
       "      <td>NaN</td>\n",
       "    </tr>\n",
       "    <tr>\n",
       "      <th>394</th>\n",
       "      <td>688</td>\n",
       "      <td>NaN</td>\n",
       "      <td>OD</td>\n",
       "      <td>0</td>\n",
       "      <td>114.0</td>\n",
       "      <td>42.36554</td>\n",
       "      <td>42.24300</td>\n",
       "      <td>0.12252</td>\n",
       "      <td>NaN</td>\n",
       "      <td>117.50</td>\n",
       "      <td>...</td>\n",
       "      <td>NaN</td>\n",
       "      <td>NaN</td>\n",
       "      <td>NaN</td>\n",
       "      <td>NaN</td>\n",
       "      <td>NaN</td>\n",
       "      <td>NaN</td>\n",
       "      <td>NaN</td>\n",
       "      <td>NaN</td>\n",
       "      <td>NaN</td>\n",
       "      <td>NaN</td>\n",
       "    </tr>\n",
       "  </tbody>\n",
       "</table>\n",
       "<p>500 rows × 49 columns</p>\n",
       "</div>"
      ],
      "text/plain": [
       "      id           NHC C_Eye C_Mode  C_K_Axis      C_K2      C_K1  C_K_Ast  \\\n",
       "0    697  1.564600e+04    OS      0      92.0  43.64694  42.54171  1.10520   \n",
       "1    707  7.555700e+04    OD      0      88.0  43.66778  42.39215  1.27563   \n",
       "2    690  5.146540e+05    OD      0      90.0  43.65411  42.34524  1.30885   \n",
       "3    889  1.751981e+06    OD      0      67.0  42.79926  41.88031  0.91898   \n",
       "4    679  1.009245e+07    OD      0      77.0  42.16931  41.60190  0.56741   \n",
       "..   ...           ...   ...    ...       ...       ...       ...      ...   \n",
       "390  132  1.106272e+08    OD      0      37.0  44.58665  43.86575  0.72089   \n",
       "391  120  1.106329e+08    OD      0     155.0  45.61933  45.00474  0.61462   \n",
       "392  122  1.106426e+08    OD      0      30.0  44.08221  43.58793  0.49426   \n",
       "393  297  1.001919e+09    OS      0     165.0  41.70636  41.32661  0.37979   \n",
       "394  688           NaN    OD      0     114.0  42.36554  42.24300  0.12252   \n",
       "\n",
       "     C_K_Ast_Type  C_TCA_Axis  ...  L_AST  L_AXIS  L_WTW  L_ICX  L_ICY  L_PD  \\\n",
       "0             NaN       97.17  ...    NaN     NaN    NaN    NaN    NaN   NaN   \n",
       "1             NaN       82.47  ...    NaN     NaN    NaN    NaN    NaN   NaN   \n",
       "2             NaN       84.29  ...    NaN     NaN    NaN    NaN    NaN   NaN   \n",
       "3             NaN       59.32  ...    NaN     NaN    NaN    NaN    NaN   NaN   \n",
       "4             NaN       77.71  ...    NaN     NaN    NaN    NaN    NaN   NaN   \n",
       "..            ...         ...  ...    ...     ...    ...    ...    ...   ...   \n",
       "390           NaN       33.96  ...    NaN     NaN    NaN    NaN    NaN   NaN   \n",
       "391           NaN      147.08  ...    NaN     NaN    NaN    NaN    NaN   NaN   \n",
       "392           NaN       24.50  ...    NaN     NaN    NaN    NaN    NaN   NaN   \n",
       "393           NaN      156.85  ...    NaN     NaN    NaN    NaN    NaN   NaN   \n",
       "394           NaN      117.50  ...    NaN     NaN    NaN    NaN    NaN   NaN   \n",
       "\n",
       "     L_PCX  L_PCY  L_Ast_Type  L_Surgery_State  \n",
       "0      NaN    NaN         NaN              NaN  \n",
       "1      NaN    NaN         NaN              NaN  \n",
       "2      NaN    NaN         NaN              NaN  \n",
       "3      NaN    NaN         NaN              NaN  \n",
       "4      NaN    NaN         NaN              NaN  \n",
       "..     ...    ...         ...              ...  \n",
       "390    NaN    NaN         NaN              NaN  \n",
       "391    NaN    NaN         NaN              NaN  \n",
       "392    NaN    NaN         NaN              NaN  \n",
       "393    NaN    NaN         NaN              NaN  \n",
       "394    NaN    NaN         NaN              NaN  \n",
       "\n",
       "[500 rows x 49 columns]"
      ]
     },
     "execution_count": 121,
     "metadata": {},
     "output_type": "execute_result"
    }
   ],
   "source": [
    "df_NOtPhakic.sort_values(by='NHC',ascending=True)"
   ]
  },
  {
   "cell_type": "code",
   "execution_count": null,
   "metadata": {},
   "outputs": [],
   "source": []
  },
  {
   "cell_type": "code",
   "execution_count": 122,
   "metadata": {},
   "outputs": [
    {
     "name": "stdout",
     "output_type": "stream",
     "text": [
      "   A  B    C\n",
      "0  1  x    x\n",
      "1  2  y    y\n",
      "2  3  z    z\n",
      "0  4  x  NaN\n",
      "1  5  y  NaN\n",
      "2  6  z  NaN\n",
      "0  7  y  NaN\n",
      "1  8  z  NaN\n",
      "2  9  x  NaN\n"
     ]
    }
   ],
   "source": [
    "df1 = pd.DataFrame({'A': [1, 2, 3], 'B': ['x', 'y', 'z'], 'C': ['x', 'y', 'z']})\n",
    "df2 = pd.DataFrame({'A': [4, 5, 6], 'B': ['x', 'y', 'z']})\n",
    "df3 = pd.DataFrame({'A': [7, 8, 9], 'B': ['y', 'z', 'x']})\n",
    "\n",
    "# Concatenate while preserving indices\n",
    "stacked_df = pd.concat([df1, df2, df3], ignore_index=False)\n",
    "\n",
    "print(stacked_df)"
   ]
  },
  {
   "cell_type": "code",
   "execution_count": null,
   "metadata": {},
   "outputs": [],
   "source": []
  },
  {
   "cell_type": "code",
   "execution_count": 27,
   "metadata": {},
   "outputs": [],
   "source": [
    "with pd.ExcelWriter(\"test.xlsx\") as writer: # the name of the xlsx can be anything\n",
    "    result.to_excel(writer,sheet_name='Phakic',index=False)"
   ]
  }
 ],
 "metadata": {
  "kernelspec": {
   "display_name": "Python 3",
   "language": "python",
   "name": "python3"
  },
  "language_info": {
   "codemirror_mode": {
    "name": "ipython",
    "version": 3
   },
   "file_extension": ".py",
   "mimetype": "text/x-python",
   "name": "python",
   "nbconvert_exporter": "python",
   "pygments_lexer": "ipython3",
   "version": "3.9.13"
  }
 },
 "nbformat": 4,
 "nbformat_minor": 2
}
